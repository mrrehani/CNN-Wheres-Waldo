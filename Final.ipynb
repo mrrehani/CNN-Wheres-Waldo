{
 "cells": [
  {
   "cell_type": "code",
   "execution_count": 1,
   "metadata": {},
   "outputs": [],
   "source": [
    "import os\n",
    "import numpy as np\n",
    "import pandas as pd\n",
    "import zipfile \n",
    "import matplotlib.image as image\n",
    "from sklearn.model_selection import train_test_split\n",
    "import tensorflow as tf\n",
    "\n",
    "from tensorflow.keras import datasets, layers, models\n",
    "import matplotlib.pyplot as plt\n",
    "\n",
    "\n"
   ]
  },
  {
   "cell_type": "code",
   "execution_count": 88,
   "metadata": {},
   "outputs": [
    {
     "data": {
      "text/plain": [
       "'def extract(file):\\n    with zipfile.ZipFile(os.getcwd() + \"/Pictures/\" + file, \\'r\\') as zip_ref:\\n        zip_ref.extractall(os.getcwd()+\"/Pictures/\")\\nextract(\"64.zip\")\\n'"
      ]
     },
     "execution_count": 88,
     "metadata": {},
     "output_type": "execute_result"
    }
   ],
   "source": [
    "\"\"\"def extract(file):\n",
    "    with zipfile.ZipFile(os.getcwd() + \"/Pictures/\" + file, 'r') as zip_ref:\n",
    "        zip_ref.extractall(os.getcwd()+\"/Pictures/\")\n",
    "extract(\"64.zip\")\n",
    "\"\"\""
   ]
  },
  {
   "cell_type": "code",
   "execution_count": 20,
   "metadata": {},
   "outputs": [],
   "source": [
    "waldo_images = os.listdir(os.getcwd() + \"/Pictures/64/augmented\")\n",
    "notwaldo_images = os.listdir(os.getcwd() + \"/Pictures/64/notwaldo\")\n",
    "X = []\n",
    "y = [] \n",
    "\n",
    "for img in waldo_images:\n",
    "    try:\n",
    "        X.append(image.imread(os.getcwd() + \"/Pictures/64/augmented/\" + str(img)))\n",
    "        y.append(1)\n",
    "    except:\n",
    "        continue\n",
    "\n",
    "for img in notwaldo_images:\n",
    "    X.append(image.imread(os.getcwd() + \"/Pictures/64/notwaldo/\" + str(img)))\n",
    "    y.append(0)\n",
    "X = np.array(X) \n",
    "y = np.column_stack(y).T \n",
    "X_train, X_test, y_train, y_test = train_test_split(X, y, test_size=0.20, shuffle=True)"
   ]
  },
  {
   "cell_type": "code",
   "execution_count": 21,
   "metadata": {},
   "outputs": [
    {
     "name": "stdout",
     "output_type": "stream",
     "text": [
      "Epoch 1/10\n",
      "267/267 [==============================] - 19s 70ms/step - loss: 1.0094 - accuracy: 0.9301 - val_loss: 2.5954e-05 - val_accuracy: 1.0000\n",
      "Epoch 2/10\n",
      "267/267 [==============================] - 20s 74ms/step - loss: 0.0164 - accuracy: 0.9977 - val_loss: 3.6031e-04 - val_accuracy: 1.0000\n",
      "Epoch 3/10\n",
      "267/267 [==============================] - 20s 74ms/step - loss: 9.6926e-06 - accuracy: 1.0000 - val_loss: 1.2538e-06 - val_accuracy: 1.0000\n",
      "Epoch 4/10\n",
      "267/267 [==============================] - 20s 76ms/step - loss: 9.7255e-07 - accuracy: 1.0000 - val_loss: 6.9622e-07 - val_accuracy: 1.0000\n",
      "Epoch 5/10\n",
      "267/267 [==============================] - 18s 68ms/step - loss: 5.8976e-07 - accuracy: 1.0000 - val_loss: 4.5044e-07 - val_accuracy: 1.0000\n",
      "Epoch 6/10\n",
      "267/267 [==============================] - 20s 74ms/step - loss: 4.0088e-07 - accuracy: 1.0000 - val_loss: 3.1605e-07 - val_accuracy: 1.0000\n",
      "Epoch 7/10\n",
      "267/267 [==============================] - 18s 68ms/step - loss: 2.9001e-07 - accuracy: 1.0000 - val_loss: 2.3507e-07 - val_accuracy: 1.0000\n",
      "Epoch 8/10\n",
      "267/267 [==============================] - 19s 71ms/step - loss: 2.2016e-07 - accuracy: 1.0000 - val_loss: 1.8205e-07 - val_accuracy: 1.0000\n",
      "Epoch 9/10\n",
      "267/267 [==============================] - 18s 67ms/step - loss: 1.7231e-07 - accuracy: 1.0000 - val_loss: 1.4377e-07 - val_accuracy: 1.0000\n",
      "Epoch 10/10\n",
      "267/267 [==============================] - 18s 66ms/step - loss: 1.3796e-07 - accuracy: 1.0000 - val_loss: 1.1569e-07 - val_accuracy: 1.0000\n"
     ]
    }
   ],
   "source": [
    "#Model from https://www.tensorflow.org/tutorials/images/cnn\n",
    "model = models.Sequential()\n",
    "model.add(layers.Conv2D(32, (3, 3), activation='relu', input_shape=(64, 64, 3)))\n",
    "model.add(layers.MaxPooling2D((2, 2)))\n",
    "\n",
    "\n",
    "model.add(layers.Conv2D(64, (3, 3), activation='relu'))\n",
    "model.add(layers.MaxPooling2D((2, 2)))\n",
    "\n",
    "model.add(layers.Conv2D(64, (1, 1), activation='relu'))\n",
    "model.add(layers.MaxPooling2D((2, 2)))\n",
    "\n",
    "model.add(layers.Flatten())\n",
    "model.add(layers.Dense(64, activation='relu'))\n",
    "model.add(layers.Dense(2))\n",
    "\n",
    "model.compile(optimizer='adam',\n",
    "              loss=tf.keras.losses.SparseCategoricalCrossentropy(from_logits=True),\n",
    "              metrics=['accuracy'])\n",
    "\n",
    "\n",
    "history = model.fit(X_train, y_train, epochs=10, validation_data = (X_test, y_test))\n",
    "\n"
   ]
  },
  {
   "cell_type": "code",
   "execution_count": 2,
   "metadata": {},
   "outputs": [
    {
     "name": "stdout",
     "output_type": "stream",
     "text": [
      "Found 39 images belonging to 2 classes.\n"
     ]
    }
   ],
   "source": [
    "\n",
    "\"\"\"\n",
    "#This is from https://github.com/ThomasADuffy/Whos-Waldo-Capstone-2/blob/master/images/plots_structures/Model_v1.jpg\n",
    "from tensorflow.keras.preprocessing.image import ImageDataGenerator\n",
    "datagen = ImageDataGenerator(\n",
    "    rotation_range=0,\n",
    "    width_shift_range=0.15,\n",
    "    height_shift_range=0.15,\n",
    "    rescale=1./255,\n",
    "    shear_range=0.1,\n",
    "    zoom_range=0.1,\n",
    "    horizontal_flip=True,\n",
    "    vertical_flip=False,\n",
    "    brightness_range=(.7,1.3),\n",
    "    fill_mode='nearest')\n",
    "i = 0\n",
    "gen= datagen.flow_from_directory(\n",
    "        os.getcwd() + \"/Pictures/64/\",\n",
    "        target_size=(64, 64),\n",
    "        batch_size=1, color_mode='rgb',\n",
    "    class_mode='binary', shuffle=True, interpolation='nearest',\n",
    "    save_to_dir= os.getcwd() + \"/Pictures/64/augmented\",save_prefix=\"changed\")\n",
    "i = 0\n",
    "while i <= 5338:\n",
    "    try:\n",
    "        gen.next()\n",
    "        i+=1\n",
    "    except:\n",
    "        break\n",
    "\"\"\"\n"
   ]
  }
 ],
 "metadata": {
  "interpreter": {
   "hash": "2c17cdae881039898e019dde816ef025ab5528b4115dbe62b08e3ff91b305481"
  },
  "kernelspec": {
   "display_name": "Python 3.8.5 ('base')",
   "language": "python",
   "name": "python3"
  },
  "language_info": {
   "codemirror_mode": {
    "name": "ipython",
    "version": 3
   },
   "file_extension": ".py",
   "mimetype": "text/x-python",
   "name": "python",
   "nbconvert_exporter": "python",
   "pygments_lexer": "ipython3",
   "version": "3.8.5"
  },
  "orig_nbformat": 4
 },
 "nbformat": 4,
 "nbformat_minor": 2
}
