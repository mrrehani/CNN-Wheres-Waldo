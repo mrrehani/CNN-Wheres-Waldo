{
 "cells": [
  {
   "cell_type": "code",
   "execution_count": 30,
   "metadata": {},
   "outputs": [],
   "source": [
    "import os\n",
    "import numpy as np\n",
    "import pandas as p\n",
    "import zipfile \n",
    "import matplotlib.image as image\n",
    "import matplotlib.pyplot as plt\n",
    "from sklearn.model_selection import train_test_split\n",
    "import tensorflow as tf\n",
    "from tensorflow import keras\n",
    "from keras.callbacks import ModelCheckpoint,EarlyStopping\n",
    "from keras import backend as K \n",
    "import skimage.io as iio\n",
    "from keras.layers import Dropout\n",
    "from tensorflow.keras import layers, models\n",
    "\n",
    "\n"
   ]
  },
  {
   "cell_type": "code",
   "execution_count": 731,
   "metadata": {},
   "outputs": [
    {
     "data": {
      "text/plain": [
       "'def extract(file):\\n    with zipfile.ZipFile(os.getcwd() + \"/Pictures/\" + file, \\'r\\') as zip_ref:\\n        zip_ref.extractall(os.getcwd()+\"/Pictures/\")\\nextract(\"64.zip\")\\n'"
      ]
     },
     "execution_count": 731,
     "metadata": {},
     "output_type": "execute_result"
    }
   ],
   "source": [
    "#This is to extract any necessary files. \n",
    "\"\"\"def extract(file):\n",
    "    with zipfile.ZipFile(os.getcwd() + \"/Pictures/\" + file, 'r') as zip_ref:\n",
    "        zip_ref.extractall(os.getcwd()+\"/Pictures/\")\n",
    "extract(\"64.zip\")\n",
    "\"\"\""
   ]
  },
  {
   "cell_type": "code",
   "execution_count": 40,
   "metadata": {},
   "outputs": [],
   "source": [
    "#Augmented folder because Waldo folder only contains aa few images. \n",
    "waldo_images = os.listdir(os.getcwd() + \"/Pictures/64/augmented\")\n",
    "notwaldo_images = os.listdir(os.getcwd() + \"/Pictures/64/notwaldo\")\n",
    "X = []\n",
    "y = [] \n",
    "\n",
    "for img in waldo_images:\n",
    "    try:\n",
    "        X.append(image.imread(os.getcwd() + \"/Pictures/64/augmented/\" + str(img)))\n",
    "        y.append(1)\n",
    "    except:\n",
    "        continue\n",
    "\n",
    "for img in notwaldo_images:\n",
    "    X.append(image.imread(os.getcwd() + \"/Pictures/64/notwaldo/\" + str(img)))\n",
    "    y.append(0)\n",
    "X = np.array(X)\n",
    "y = np.column_stack(y).T\n",
    "X_train, X_test, y_train, y_test = train_test_split(X, y, test_size=0.20, shuffle=True)"
   ]
  },
  {
   "cell_type": "code",
   "execution_count": 41,
   "metadata": {},
   "outputs": [
    {
     "name": "stdout",
     "output_type": "stream",
     "text": [
      "Epoch 1/10\n",
      "267/267 [==============================] - 18s 64ms/step - loss: 2.6584 - accuracy: 0.5013 - val_loss: 0.3983 - val_accuracy: 0.4944\n",
      "Epoch 2/10\n",
      "267/267 [==============================] - 19s 72ms/step - loss: 0.4913 - accuracy: 0.5082 - val_loss: 0.3908 - val_accuracy: 0.4944\n",
      "Epoch 3/10\n",
      "267/267 [==============================] - 18s 67ms/step - loss: 0.4639 - accuracy: 0.5091 - val_loss: 0.3818 - val_accuracy: 0.4972\n",
      "Epoch 4/10\n",
      "267/267 [==============================] - 24s 91ms/step - loss: 0.4660 - accuracy: 0.5118 - val_loss: 0.3742 - val_accuracy: 0.5070\n",
      "Epoch 5/10\n",
      "267/267 [==============================] - 13s 50ms/step - loss: 0.4348 - accuracy: 0.5224 - val_loss: 0.3601 - val_accuracy: 0.6007\n",
      "Epoch 6/10\n",
      "267/267 [==============================] - 16s 59ms/step - loss: 0.4052 - accuracy: 0.5577 - val_loss: 0.3501 - val_accuracy: 0.7472\n",
      "Epoch 7/10\n",
      "267/267 [==============================] - 14s 52ms/step - loss: 0.3952 - accuracy: 0.5864 - val_loss: 0.3394 - val_accuracy: 0.9134\n",
      "Epoch 8/10\n",
      "267/267 [==============================] - 19s 72ms/step - loss: 0.3862 - accuracy: 0.6315 - val_loss: 0.3286 - val_accuracy: 0.9911\n",
      "Epoch 9/10\n",
      "267/267 [==============================] - 12s 44ms/step - loss: 0.3683 - accuracy: 0.7020 - val_loss: 0.3166 - val_accuracy: 0.9995\n",
      "Epoch 10/10\n",
      "267/267 [==============================] - 14s 51ms/step - loss: 0.3413 - accuracy: 0.8234 - val_loss: 0.3010 - val_accuracy: 1.0000\n"
     ]
    }
   ],
   "source": [
    "#Model from https://www.tensorflow.org/tutorials/images/cnn, edited as needed e.g. adding dropout\n",
    "model = models.Sequential()\n",
    "model.add(layers.Conv2D(32, (3, 3), activation='relu', input_shape=(64, 64, 3)))\n",
    "model.add(layers.MaxPooling2D((2, 2)))\n",
    "model.add(Dropout(0.25))\n",
    "\n",
    "model.add(layers.Conv2D(32, (1, 1), activation='relu'))\n",
    "model.add(layers.MaxPooling2D((2, 2)))\n",
    "model.add(Dropout(0.25))\n",
    "\n",
    "model.add(layers.Conv2D(32, (1, 1), activation='relu'))\n",
    "model.add(layers.MaxPooling2D((2, 2)))\n",
    "model.add(Dropout(0.25))\n",
    "\n",
    "model.add(layers.Flatten())\n",
    "model.add(layers.Dense(64, activation='relu'))\n",
    "model.add(layers.Dense(2))\n",
    "model.compile(optimizer=\"adam\",\n",
    "              loss=tf.keras.losses.SparseCategoricalCrossentropy(from_logits=True),\n",
    "              #loss = \"categorical_crossentropy\",\n",
    "              metrics=['accuracy'])\n",
    "\n",
    "\n",
    "\n",
    "K.set_value(model.optimizer.learning_rate, .00001)\n",
    "#Line of code below from https://stackoverflow.com/questions/48285129/saving-best-model-in-keras#mcp_save = ModelCheckpoint('.mdl_wts.hdf5', save_best_only=True, monitor='val_loss', mode='min')\n",
    "earlyStopping = EarlyStopping(monitor='val_accuracy', patience=2, verbose=0, mode='max')\n",
    "mcp_save = ModelCheckpoint('.mdl_wts.hdf5', save_best_only=True, monitor='val_accuracy', mode='min')\n",
    "history = model.fit(X_train, y_train, callbacks=[earlyStopping, mcp_save], epochs=10, validation_data= (X_test,y_test))\n",
    "\n"
   ]
  },
  {
   "cell_type": "code",
   "execution_count": 42,
   "metadata": {},
   "outputs": [
    {
     "name": "stdout",
     "output_type": "stream",
     "text": [
      "67/67 [==============================] - 1s 9ms/step - loss: 0.3010 - accuracy: 1.0000\n"
     ]
    },
    {
     "data": {
      "text/plain": [
       "[0.3009832501411438, 1.0]"
      ]
     },
     "execution_count": 42,
     "metadata": {},
     "output_type": "execute_result"
    }
   ],
   "source": [
    "model.evaluate(X_test,y_test)"
   ]
  },
  {
   "cell_type": "code",
   "execution_count": 47,
   "metadata": {},
   "outputs": [
    {
     "data": {
      "text/plain": [
       "array([149, 132, 104, 162,  94,  22,  84,   6,  59,  10, 117, 103,  39,\n",
       "       174, 110])"
      ]
     },
     "execution_count": 47,
     "metadata": {},
     "output_type": "execute_result"
    }
   ],
   "source": [
    "images=[]\n",
    "waldo = 0 \n",
    "iter = 0 \n",
    "for i in os.listdir(os.getcwd()+\"/Pictures/64/Test/\"):\n",
    "   try:\n",
    "      if iio.imread(os.getcwd()+\"/Pictures/64/Test/\"+i).shape == (64, 64, 3):\n",
    "         if i == 'slice15.jpg':\n",
    "            waldo = iter\n",
    "         images.append(iio.imread(os.getcwd()+\"/Pictures/64/Test/\"+i))\n",
    "         iter+=1\n",
    "   except:\n",
    "      continue\n",
    "\n",
    "predictor = model.predict((np.asarray(images)))\n",
    "ones = []\n",
    "for i in predictor:\n",
    "    ones.append(i[1])\n",
    "(-np.asarray(ones)).argsort()[:15]"
   ]
  },
  {
   "cell_type": "code",
   "execution_count": 48,
   "metadata": {},
   "outputs": [
    {
     "data": {
      "text/plain": [
       "<matplotlib.image.AxesImage at 0x7fef367e35b0>"
      ]
     },
     "execution_count": 48,
     "metadata": {},
     "output_type": "execute_result"
    },
    {
     "data": {
      "image/png": "[encoded data removed]",
      "text/plain": [
       "<Figure size 432x288 with 1 Axes>"
      ]
     },
     "metadata": {
      "needs_background": "light"
     },
     "output_type": "display_data"
    }
   ],
   "source": [
    "#Waldo\n",
    "plt.imshow(images[waldo])"
   ]
  },
  {
   "cell_type": "code",
   "execution_count": 49,
   "metadata": {},
   "outputs": [
    {
     "data": {
      "text/plain": [
       "<matplotlib.image.AxesImage at 0x7fef77797c70>"
      ]
     },
     "execution_count": 49,
     "metadata": {},
     "output_type": "execute_result"
    },
    {
     "data": {
      "image/png": "[encoded data removed]",
      "text/plain": [
       "<Figure size 432x288 with 1 Axes>"
      ]
     },
     "metadata": {
      "needs_background": "light"
     },
     "output_type": "display_data"
    }
   ],
   "source": [
    "#Top choice\n",
    "plt.imshow(images[(-np.asarray(ones)).argsort()[0]])"
   ]
  },
  {
   "cell_type": "code",
   "execution_count": null,
   "metadata": {},
   "outputs": [],
   "source": [
    "#The ccode below is for generating the necessary images. They've already bbeen generated whch is why it's commented out. \n",
    "\"\"\"\n",
    "#This is from https://github.com/ThomasADuffy/Whos-Waldo-Capstone-2/blob/master/images/plots_structures/Model_v1.jpg\n",
    "from tensorflow.keras.preprocessing.image import ImageDataGenerator\n",
    "datagen = ImageDataGenerator(\n",
    "    rotation_range=0,\n",
    "    width_shift_range=0.15,\n",
    "    height_shift_range=0.15,\n",
    "    rescale=1./255,\n",
    "    shear_range=0.1,\n",
    "    zoom_range=0.1,\n",
    "    horizontal_flip=True,\n",
    "    vertical_flip=False,\n",
    "    brightness_range=(.7,1.3),\n",
    "    fill_mode='nearest')\n",
    "i = 0\n",
    "gen= datagen.flow_from_directory(\n",
    "        os.getcwd() + \"/Pictures/64/\",\n",
    "        target_size=(64, 64),\n",
    "        batch_size=1, color_mode='rgb',\n",
    "    class_mode='binary', shuffle=True, interpolation='nearest',\n",
    "    save_to_dir= os.getcwd() + \"/Pictures/64/augmented\",save_prefix=\"changed\")\n",
    "i = 0\n",
    "while i <= 5338:\n",
    "    try:\n",
    "        gen.next()\n",
    "        i+=1\n",
    "    except:\n",
    "        break\n",
    "\"\"\"\n"
   ]
  }
 ],
 "metadata": {
  "interpreter": {
   "hash": "2c17cdae881039898e019dde816ef025ab5528b4115dbe62b08e3ff91b305481"
  },
  "kernelspec": {
   "display_name": "Python 3.8.5 ('base')",
   "language": "python",
   "name": "python3"
  },
  "language_info": {
   "codemirror_mode": {
    "name": "ipython",
    "version": 3
   },
   "file_extension": ".py",
   "mimetype": "text/x-python",
   "name": "python",
   "nbconvert_exporter": "python",
   "pygments_lexer": "ipython3",
   "version": "3.8.5"
  },
  "orig_nbformat": 4
 },
 "nbformat": 4,
 "nbformat_minor": 2
}
