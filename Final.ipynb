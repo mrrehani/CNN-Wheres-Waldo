{
 "cells": [
  {
   "cell_type": "code",
   "execution_count": 54,
   "metadata": {},
   "outputs": [],
   "source": [
    "import os\n",
    "import numpy as np\n",
    "import pandas as p\n",
    "import zipfile \n",
    "import matplotlib.image as image\n",
    "from sklearn.model_selection import train_test_split\n",
    "import tensorflow as tf\n",
    "from tensorflow import keras\n",
    "from keras import backend as K \n",
    "from keras.layers import Dropout\n",
    "from tensorflow.keras import layers, models\n",
    "\n",
    "\n"
   ]
  },
  {
   "cell_type": "code",
   "execution_count": null,
   "metadata": {},
   "outputs": [],
   "source": [
    "#This is to extract any necessary files. \n",
    "\"\"\"def extract(file):\n",
    "    with zipfile.ZipFile(os.getcwd() + \"/Pictures/\" + file, 'r') as zip_ref:\n",
    "        zip_ref.extractall(os.getcwd()+\"/Pictures/\")\n",
    "extract(\"64.zip\")\n",
    "\"\"\""
   ]
  },
  {
   "cell_type": "code",
   "execution_count": 52,
   "metadata": {},
   "outputs": [],
   "source": [
    "#Augmented folder because Waldo folder only contains aa few images. \n",
    "waldo_images = os.listdir(os.getcwd() + \"/Pictures/64/augmented\")\n",
    "notwaldo_images = os.listdir(os.getcwd() + \"/Pictures/64/notwaldo\")\n",
    "X = []\n",
    "y = [] \n",
    "\n",
    "for img in waldo_images:\n",
    "    try:\n",
    "        X.append(image.imread(os.getcwd() + \"/Pictures/64/augmented/\" + str(img)))\n",
    "        y.append(1)\n",
    "    except:\n",
    "        continue\n",
    "\n",
    "for img in notwaldo_images:\n",
    "    X.append(image.imread(os.getcwd() + \"/Pictures/64/notwaldo/\" + str(img)))\n",
    "    y.append(0)\n",
    "X = np.array(X) \n",
    "y = np.column_stack(y).T \n",
    "X_train, X_test, y_train, y_test = train_test_split(X, y, test_size=0.20, shuffle=True)"
   ]
  },
  {
   "cell_type": "code",
   "execution_count": 59,
   "metadata": {},
   "outputs": [
    {
     "name": "stdout",
     "output_type": "stream",
     "text": [
      "Epoch 1/10\n",
      "267/267 [==============================] - 24s 87ms/step - loss: 1.1414 - accuracy: 0.5046 - val_loss: 0.4156 - val_accuracy: 0.4902\n",
      "Epoch 2/10\n",
      "267/267 [==============================] - 21s 78ms/step - loss: 0.4999 - accuracy: 0.5054 - val_loss: 0.4061 - val_accuracy: 0.4902\n",
      "Epoch 3/10\n",
      "267/267 [==============================] - 22s 81ms/step - loss: 0.4822 - accuracy: 0.5135 - val_loss: 0.3910 - val_accuracy: 0.4911\n",
      "Epoch 4/10\n",
      "267/267 [==============================] - 21s 77ms/step - loss: 0.4594 - accuracy: 0.5194 - val_loss: 0.3782 - val_accuracy: 0.5084\n",
      "Epoch 5/10\n",
      "267/267 [==============================] - 23s 86ms/step - loss: 0.4426 - accuracy: 0.5389 - val_loss: 0.3669 - val_accuracy: 0.5693\n",
      "Epoch 6/10\n",
      "267/267 [==============================] - 21s 78ms/step - loss: 0.4077 - accuracy: 0.5999 - val_loss: 0.3436 - val_accuracy: 0.8858\n",
      "Epoch 7/10\n",
      "267/267 [==============================] - 21s 80ms/step - loss: 0.3673 - accuracy: 0.6985 - val_loss: 0.3212 - val_accuracy: 0.9986\n",
      "Epoch 8/10\n",
      "267/267 [==============================] - 20s 74ms/step - loss: 0.3664 - accuracy: 0.7464 - val_loss: 0.3127 - val_accuracy: 0.9995\n",
      "Epoch 9/10\n",
      "267/267 [==============================] - 19s 71ms/step - loss: 0.3242 - accuracy: 0.8776 - val_loss: 0.2824 - val_accuracy: 1.0000\n",
      "Epoch 10/10\n",
      "267/267 [==============================] - 19s 71ms/step - loss: 0.2787 - accuracy: 0.9678 - val_loss: 0.2405 - val_accuracy: 1.0000\n"
     ]
    }
   ],
   "source": [
    "#Model from https://www.tensorflow.org/tutorials/images/cnn, edited as needed e.g. adding dropout\n",
    "model = models.Sequential()\n",
    "model.add(layers.Conv2D(32, (3, 3), activation='relu', input_shape=(64, 64, 3)))\n",
    "model.add(layers.MaxPooling2D((2, 2)))\n",
    "model.add(Dropout(0.2))\n",
    "\n",
    "model.add(layers.Conv2D(64, (3, 3), activation='relu'))\n",
    "model.add(layers.MaxPooling2D((2, 2)))\n",
    "model.add(Dropout(0.2))\n",
    "\n",
    "model.add(layers.Conv2D(64, (1, 1), activation='relu'))\n",
    "model.add(layers.MaxPooling2D((2, 2)))\n",
    "model.add(Dropout(0.2))\n",
    "\n",
    "model.add(layers.Flatten())\n",
    "model.add(layers.Dense(64, activation='relu'))\n",
    "model.add(layers.Dense(2))\n",
    "model.compile(optimizer=\"adam\",\n",
    "              loss=tf.keras.losses.SparseCategoricalCrossentropy(from_logits=True),\n",
    "              metrics=['accuracy'])\n",
    "\n",
    "K.set_value(model.optimizer.learning_rate, .00001)\n",
    "\n",
    "history = model.fit(X_train, y_train, epochs=10, validation_data = (X_test, y_test))\n",
    "\n"
   ]
  },
  {
   "cell_type": "code",
   "execution_count": null,
   "metadata": {},
   "outputs": [],
   "source": [
    "#The ccode below is for generating the necessary images. They've already bbeen generated whch is why it's commented out. \n",
    "\"\"\"\n",
    "#This is from https://github.com/ThomasADuffy/Whos-Waldo-Capstone-2/blob/master/images/plots_structures/Model_v1.jpg\n",
    "from tensorflow.keras.preprocessing.image import ImageDataGenerator\n",
    "datagen = ImageDataGenerator(\n",
    "    rotation_range=0,\n",
    "    width_shift_range=0.15,\n",
    "    height_shift_range=0.15,\n",
    "    rescale=1./255,\n",
    "    shear_range=0.1,\n",
    "    zoom_range=0.1,\n",
    "    horizontal_flip=True,\n",
    "    vertical_flip=False,\n",
    "    brightness_range=(.7,1.3),\n",
    "    fill_mode='nearest')\n",
    "i = 0\n",
    "gen= datagen.flow_from_directory(\n",
    "        os.getcwd() + \"/Pictures/64/\",\n",
    "        target_size=(64, 64),\n",
    "        batch_size=1, color_mode='rgb',\n",
    "    class_mode='binary', shuffle=True, interpolation='nearest',\n",
    "    save_to_dir= os.getcwd() + \"/Pictures/64/augmented\",save_prefix=\"changed\")\n",
    "i = 0\n",
    "while i <= 5338:\n",
    "    try:\n",
    "        gen.next()\n",
    "        i+=1\n",
    "    except:\n",
    "        break\n",
    "\"\"\"\n"
   ]
  }
 ],
 "metadata": {
  "interpreter": {
   "hash": "2c17cdae881039898e019dde816ef025ab5528b4115dbe62b08e3ff91b305481"
  },
  "kernelspec": {
   "display_name": "Python 3.8.5 ('base')",
   "language": "python",
   "name": "python3"
  },
  "language_info": {
   "codemirror_mode": {
    "name": "ipython",
    "version": 3
   },
   "file_extension": ".py",
   "mimetype": "text/x-python",
   "name": "python",
   "nbconvert_exporter": "python",
   "pygments_lexer": "ipython3",
   "version": "3.8.5"
  },
  "orig_nbformat": 4
 },
 "nbformat": 4,
 "nbformat_minor": 2
}
