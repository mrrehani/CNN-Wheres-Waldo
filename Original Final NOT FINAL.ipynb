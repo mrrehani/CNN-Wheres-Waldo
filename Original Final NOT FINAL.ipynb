{
 "cells": [
  {
   "cell_type": "code",
   "execution_count": 1,
   "metadata": {},
   "outputs": [],
   "source": [
    "import os\n",
    "import numpy as np\n",
    "import pandas as p\n",
    "import zipfile \n",
    "import matplotlib.image as image\n",
    "import matplotlib.pyplot as plt\n",
    "from sklearn.model_selection import train_test_split\n",
    "import tensorflow as tf\n",
    "from tensorflow import keras\n",
    "from keras.callbacks import ModelCheckpoint,EarlyStopping\n",
    "from keras import backend as K \n",
    "from keras.layers import Dropout\n",
    "from tensorflow.keras import layers, models\n",
    "from sklearn.metrics import confusion_matrix"
   ]
  },
  {
   "cell_type": "code",
   "execution_count": 2,
   "metadata": {},
   "outputs": [
    {
     "data": {
      "text/plain": [
       "'def extract(file):\\n    with zipfile.ZipFile(os.getcwd() + \"/Pictures/\" + file, \\'r\\') as zip_ref:\\n        zip_ref.extractall(os.getcwd()+\"/Pictures/\")\\nextract(\"64.zip\")\\n'"
      ]
     },
     "execution_count": 2,
     "metadata": {},
     "output_type": "execute_result"
    }
   ],
   "source": [
    "#This is to extract any necessary files. \n",
    "\"\"\"def extract(file):\n",
    "    with zipfile.ZipFile(os.getcwd() + \"/Pictures/\" + file, 'r') as zip_ref:\n",
    "        zip_ref.extractall(os.getcwd()+\"/Pictures/\")\n",
    "extract(\"64.zip\")\n",
    "\"\"\""
   ]
  },
  {
   "cell_type": "code",
   "execution_count": 26,
   "metadata": {},
   "outputs": [
    {
     "ename": "ValueError",
     "evalue": "not enough values to unpack (expected 4, got 2)",
     "output_type": "error",
     "traceback": [
      "\u001b[0;31m---------------------------------------------------------------------------\u001b[0m",
      "\u001b[0;31mValueError\u001b[0m                                Traceback (most recent call last)",
      "\u001b[0;32m<ipython-input-26-e6867675ce0c>\u001b[0m in \u001b[0;36m<module>\u001b[0;34m\u001b[0m\n\u001b[1;32m     25\u001b[0m \u001b[0monehot\u001b[0m \u001b[0;34m=\u001b[0m \u001b[0mencoder\u001b[0m\u001b[0;34m.\u001b[0m\u001b[0mfit_transform\u001b[0m\u001b[0;34m(\u001b[0m\u001b[0my\u001b[0m\u001b[0;34m)\u001b[0m\u001b[0;34m\u001b[0m\u001b[0;34m\u001b[0m\u001b[0m\n\u001b[1;32m     26\u001b[0m \u001b[0;34m\u001b[0m\u001b[0m\n\u001b[0;32m---> 27\u001b[0;31m \u001b[0mX_train\u001b[0m\u001b[0;34m,\u001b[0m \u001b[0mX_test\u001b[0m\u001b[0;34m,\u001b[0m \u001b[0my_train\u001b[0m\u001b[0;34m,\u001b[0m \u001b[0my_test\u001b[0m \u001b[0;34m=\u001b[0m \u001b[0mtrain_test_split\u001b[0m\u001b[0;34m(\u001b[0m\u001b[0mX\u001b[0m\u001b[0;34m,\u001b[0m \u001b[0mtest_size\u001b[0m\u001b[0;34m=\u001b[0m\u001b[0;36m0.20\u001b[0m\u001b[0;34m,\u001b[0m \u001b[0mshuffle\u001b[0m\u001b[0;34m=\u001b[0m\u001b[0;32mTrue\u001b[0m\u001b[0;34m)\u001b[0m\u001b[0;34m\u001b[0m\u001b[0;34m\u001b[0m\u001b[0m\n\u001b[0m",
      "\u001b[0;31mValueError\u001b[0m: not enough values to unpack (expected 4, got 2)"
     ]
    }
   ],
   "source": [
    "#Augmented folder because Waldo folder only contains aa few images. \n",
    "waldo_images = os.listdir(os.getcwd() + \"/Pictures/temp/waldo\")\n",
    "notwaldo_images = os.listdir(os.getcwd() + \"/Pictures/64/notwaldo\")\n",
    "X = []\n",
    "y = [] \n",
    "test ={}\n",
    "for img in waldo_images:\n",
    "    try:\n",
    "        waldo = image.imread(os.getcwd() + \"/Pictures/temp/waldo/\" + str(img))\n",
    "        X.append(waldo)\n",
    "        y.append((\"Waldo\"))\n",
    "    except:\n",
    "        continue\n",
    "\n",
    "for img in notwaldo_images:\n",
    "    not_waldo = image.imread(os.getcwd() + \"/Pictures/64/notwaldo/\" + str(img))\n",
    "    if not_waldo[0][0][0] >= 1:\n",
    "        not_waldo = not_waldo/255\n",
    "    X.append(not_waldo)\n",
    "    y.append((\"Not Waldo\"))\n",
    "X = np.array(X)\n",
    "y = np.column_stack(y).T\n",
    "from sklearn.preprocessing import OneHotEncoder\n",
    "encoder = OneHotEncoder(sparse=False)\n",
    "onehot = encoder.fit_transform(y)\n",
    "\n",
    "X_train, X_test, y_train, y_test = train_test_split(X,y, test_size=0.20, shuffle=True)"
   ]
  },
  {
   "cell_type": "code",
   "execution_count": 31,
   "metadata": {},
   "outputs": [
    {
     "data": {
      "text/plain": [
       "array([['Not Waldo'],\n",
       "       ['Not Waldo'],\n",
       "       ['Waldo'],\n",
       "       ...,\n",
       "       ['Waldo'],\n",
       "       ['Not Waldo'],\n",
       "       ['Waldo']], dtype='<U9')"
      ]
     },
     "execution_count": 31,
     "metadata": {},
     "output_type": "execute_result"
    }
   ],
   "source": [
    "y_train"
   ]
  },
  {
   "cell_type": "code",
   "execution_count": 32,
   "metadata": {},
   "outputs": [
    {
     "name": "stdout",
     "output_type": "stream",
     "text": [
      "Epoch 1/10\n"
     ]
    },
    {
     "ename": "ValueError",
     "evalue": "in user code:\n\n    File \"/Users/michael/opt/anaconda3/lib/python3.8/site-packages/keras/engine/training.py\", line 878, in train_function  *\n        return step_function(self, iterator)\n    File \"/Users/michael/opt/anaconda3/lib/python3.8/site-packages/keras/engine/training.py\", line 867, in step_function  **\n        outputs = model.distribute_strategy.run(run_step, args=(data,))\n    File \"/Users/michael/opt/anaconda3/lib/python3.8/site-packages/keras/engine/training.py\", line 860, in run_step  **\n        outputs = model.train_step(data)\n    File \"/Users/michael/opt/anaconda3/lib/python3.8/site-packages/keras/engine/training.py\", line 809, in train_step\n        loss = self.compiled_loss(\n    File \"/Users/michael/opt/anaconda3/lib/python3.8/site-packages/keras/engine/compile_utils.py\", line 201, in __call__\n        loss_value = loss_obj(y_t, y_p, sample_weight=sw)\n    File \"/Users/michael/opt/anaconda3/lib/python3.8/site-packages/keras/losses.py\", line 141, in __call__\n        losses = call_fn(y_true, y_pred)\n    File \"/Users/michael/opt/anaconda3/lib/python3.8/site-packages/keras/losses.py\", line 245, in call  **\n        return ag_fn(y_true, y_pred, **self._fn_kwargs)\n    File \"/Users/michael/opt/anaconda3/lib/python3.8/site-packages/keras/losses.py\", line 1664, in categorical_crossentropy\n        return backend.categorical_crossentropy(\n    File \"/Users/michael/opt/anaconda3/lib/python3.8/site-packages/keras/backend.py\", line 4994, in categorical_crossentropy\n        target.shape.assert_is_compatible_with(output.shape)\n\n    ValueError: Shapes (None, 1) and (None, 2) are incompatible\n",
     "output_type": "error",
     "traceback": [
      "\u001b[0;31m---------------------------------------------------------------------------\u001b[0m",
      "\u001b[0;31mValueError\u001b[0m                                Traceback (most recent call last)",
      "\u001b[0;32m<ipython-input-32-29d28ac237e0>\u001b[0m in \u001b[0;36m<module>\u001b[0;34m\u001b[0m\n\u001b[1;32m     33\u001b[0m \u001b[0mearlyStopping\u001b[0m \u001b[0;34m=\u001b[0m \u001b[0mEarlyStopping\u001b[0m\u001b[0;34m(\u001b[0m\u001b[0mmonitor\u001b[0m\u001b[0;34m=\u001b[0m\u001b[0;34m'accuracy'\u001b[0m\u001b[0;34m,\u001b[0m \u001b[0mpatience\u001b[0m\u001b[0;34m=\u001b[0m\u001b[0;36m2\u001b[0m\u001b[0;34m,\u001b[0m \u001b[0mverbose\u001b[0m\u001b[0;34m=\u001b[0m\u001b[0;36m0\u001b[0m\u001b[0;34m,\u001b[0m \u001b[0mmode\u001b[0m\u001b[0;34m=\u001b[0m\u001b[0;34m'max'\u001b[0m\u001b[0;34m)\u001b[0m\u001b[0;34m\u001b[0m\u001b[0;34m\u001b[0m\u001b[0m\n\u001b[1;32m     34\u001b[0m \u001b[0mmcp_save\u001b[0m \u001b[0;34m=\u001b[0m \u001b[0mModelCheckpoint\u001b[0m\u001b[0;34m(\u001b[0m\u001b[0;34m'.mdl_wts.hdf5'\u001b[0m\u001b[0;34m,\u001b[0m \u001b[0msave_best_only\u001b[0m\u001b[0;34m=\u001b[0m\u001b[0;32mTrue\u001b[0m\u001b[0;34m,\u001b[0m \u001b[0mmonitor\u001b[0m\u001b[0;34m=\u001b[0m\u001b[0;34m'accuracy'\u001b[0m\u001b[0;34m,\u001b[0m \u001b[0mmode\u001b[0m\u001b[0;34m=\u001b[0m\u001b[0;34m'max'\u001b[0m\u001b[0;34m)\u001b[0m\u001b[0;34m\u001b[0m\u001b[0;34m\u001b[0m\u001b[0m\n\u001b[0;32m---> 35\u001b[0;31m \u001b[0mhistory\u001b[0m \u001b[0;34m=\u001b[0m \u001b[0mmodel\u001b[0m\u001b[0;34m.\u001b[0m\u001b[0mfit\u001b[0m\u001b[0;34m(\u001b[0m\u001b[0mX_train\u001b[0m\u001b[0;34m,\u001b[0m \u001b[0my_train\u001b[0m\u001b[0;34m,\u001b[0m \u001b[0mepochs\u001b[0m\u001b[0;34m=\u001b[0m\u001b[0;36m10\u001b[0m\u001b[0;34m,\u001b[0m \u001b[0mcallbacks\u001b[0m\u001b[0;34m=\u001b[0m\u001b[0mmcp_save\u001b[0m\u001b[0;34m)\u001b[0m\u001b[0;34m\u001b[0m\u001b[0;34m\u001b[0m\u001b[0m\n\u001b[0m\u001b[1;32m     36\u001b[0m \u001b[0;34m\u001b[0m\u001b[0m\n",
      "\u001b[0;32m~/opt/anaconda3/lib/python3.8/site-packages/keras/utils/traceback_utils.py\u001b[0m in \u001b[0;36merror_handler\u001b[0;34m(*args, **kwargs)\u001b[0m\n\u001b[1;32m     65\u001b[0m     \u001b[0;32mexcept\u001b[0m \u001b[0mException\u001b[0m \u001b[0;32mas\u001b[0m \u001b[0me\u001b[0m\u001b[0;34m:\u001b[0m  \u001b[0;31m# pylint: disable=broad-except\u001b[0m\u001b[0;34m\u001b[0m\u001b[0;34m\u001b[0m\u001b[0m\n\u001b[1;32m     66\u001b[0m       \u001b[0mfiltered_tb\u001b[0m \u001b[0;34m=\u001b[0m \u001b[0m_process_traceback_frames\u001b[0m\u001b[0;34m(\u001b[0m\u001b[0me\u001b[0m\u001b[0;34m.\u001b[0m\u001b[0m__traceback__\u001b[0m\u001b[0;34m)\u001b[0m\u001b[0;34m\u001b[0m\u001b[0;34m\u001b[0m\u001b[0m\n\u001b[0;32m---> 67\u001b[0;31m       \u001b[0;32mraise\u001b[0m \u001b[0me\u001b[0m\u001b[0;34m.\u001b[0m\u001b[0mwith_traceback\u001b[0m\u001b[0;34m(\u001b[0m\u001b[0mfiltered_tb\u001b[0m\u001b[0;34m)\u001b[0m \u001b[0;32mfrom\u001b[0m \u001b[0;32mNone\u001b[0m\u001b[0;34m\u001b[0m\u001b[0;34m\u001b[0m\u001b[0m\n\u001b[0m\u001b[1;32m     68\u001b[0m     \u001b[0;32mfinally\u001b[0m\u001b[0;34m:\u001b[0m\u001b[0;34m\u001b[0m\u001b[0;34m\u001b[0m\u001b[0m\n\u001b[1;32m     69\u001b[0m       \u001b[0;32mdel\u001b[0m \u001b[0mfiltered_tb\u001b[0m\u001b[0;34m\u001b[0m\u001b[0;34m\u001b[0m\u001b[0m\n",
      "\u001b[0;32m~/opt/anaconda3/lib/python3.8/site-packages/tensorflow/python/framework/func_graph.py\u001b[0m in \u001b[0;36mautograph_handler\u001b[0;34m(*args, **kwargs)\u001b[0m\n\u001b[1;32m   1127\u001b[0m           \u001b[0;32mexcept\u001b[0m \u001b[0mException\u001b[0m \u001b[0;32mas\u001b[0m \u001b[0me\u001b[0m\u001b[0;34m:\u001b[0m  \u001b[0;31m# pylint:disable=broad-except\u001b[0m\u001b[0;34m\u001b[0m\u001b[0;34m\u001b[0m\u001b[0m\n\u001b[1;32m   1128\u001b[0m             \u001b[0;32mif\u001b[0m \u001b[0mhasattr\u001b[0m\u001b[0;34m(\u001b[0m\u001b[0me\u001b[0m\u001b[0;34m,\u001b[0m \u001b[0;34m\"ag_error_metadata\"\u001b[0m\u001b[0;34m)\u001b[0m\u001b[0;34m:\u001b[0m\u001b[0;34m\u001b[0m\u001b[0;34m\u001b[0m\u001b[0m\n\u001b[0;32m-> 1129\u001b[0;31m               \u001b[0;32mraise\u001b[0m \u001b[0me\u001b[0m\u001b[0;34m.\u001b[0m\u001b[0mag_error_metadata\u001b[0m\u001b[0;34m.\u001b[0m\u001b[0mto_exception\u001b[0m\u001b[0;34m(\u001b[0m\u001b[0me\u001b[0m\u001b[0;34m)\u001b[0m\u001b[0;34m\u001b[0m\u001b[0;34m\u001b[0m\u001b[0m\n\u001b[0m\u001b[1;32m   1130\u001b[0m             \u001b[0;32melse\u001b[0m\u001b[0;34m:\u001b[0m\u001b[0;34m\u001b[0m\u001b[0;34m\u001b[0m\u001b[0m\n\u001b[1;32m   1131\u001b[0m               \u001b[0;32mraise\u001b[0m\u001b[0;34m\u001b[0m\u001b[0;34m\u001b[0m\u001b[0m\n",
      "\u001b[0;31mValueError\u001b[0m: in user code:\n\n    File \"/Users/michael/opt/anaconda3/lib/python3.8/site-packages/keras/engine/training.py\", line 878, in train_function  *\n        return step_function(self, iterator)\n    File \"/Users/michael/opt/anaconda3/lib/python3.8/site-packages/keras/engine/training.py\", line 867, in step_function  **\n        outputs = model.distribute_strategy.run(run_step, args=(data,))\n    File \"/Users/michael/opt/anaconda3/lib/python3.8/site-packages/keras/engine/training.py\", line 860, in run_step  **\n        outputs = model.train_step(data)\n    File \"/Users/michael/opt/anaconda3/lib/python3.8/site-packages/keras/engine/training.py\", line 809, in train_step\n        loss = self.compiled_loss(\n    File \"/Users/michael/opt/anaconda3/lib/python3.8/site-packages/keras/engine/compile_utils.py\", line 201, in __call__\n        loss_value = loss_obj(y_t, y_p, sample_weight=sw)\n    File \"/Users/michael/opt/anaconda3/lib/python3.8/site-packages/keras/losses.py\", line 141, in __call__\n        losses = call_fn(y_true, y_pred)\n    File \"/Users/michael/opt/anaconda3/lib/python3.8/site-packages/keras/losses.py\", line 245, in call  **\n        return ag_fn(y_true, y_pred, **self._fn_kwargs)\n    File \"/Users/michael/opt/anaconda3/lib/python3.8/site-packages/keras/losses.py\", line 1664, in categorical_crossentropy\n        return backend.categorical_crossentropy(\n    File \"/Users/michael/opt/anaconda3/lib/python3.8/site-packages/keras/backend.py\", line 4994, in categorical_crossentropy\n        target.shape.assert_is_compatible_with(output.shape)\n\n    ValueError: Shapes (None, 1) and (None, 2) are incompatible\n"
     ]
    }
   ],
   "source": [
    "#Model from https://www.tensorflow.org/tutorials/images/cnn, edited as needed e.g. adding dropout\n",
    "model = models.Sequential()\n",
    "model.add(layers.Conv2D(32, (3, 3), activation='relu', input_shape=(64, 64, 3)))\n",
    "model.add(layers.MaxPooling2D((2, 2)))\n",
    "#model.add(Dropout(0.20))\n",
    "\n",
    "model.add(layers.Conv2D(32, (1, 1), activation='relu'))\n",
    "model.add(layers.MaxPooling2D((2, 2)))\n",
    "#model.add(Dropout(0.25))\n",
    "\n",
    "model.add(layers.Conv2D(32, (3, 3), activation='relu'))\n",
    "model.add(layers.MaxPooling2D((2, 2)))\n",
    "#model.add(Dropout(0.25))\n",
    "\n",
    "model.add(layers.Conv2D(64, (1, 1), activation='relu'))\n",
    "model.add(layers.MaxPooling2D((2, 2)))\n",
    "\n",
    "model.add(layers.Conv2D(64, (3, 3), activation='relu'))\n",
    "#model.add(Dropout(0.25))\n",
    "\n",
    "model.add(layers.Flatten())\n",
    "model.add(layers.Dense(64, activation='relu'))\n",
    "model.add(layers.Dense(2))\n",
    "model.compile(optimizer=\"adam\",\n",
    "              loss=tf.keras.losses.CategoricalCrossentropy(from_logits=True),\n",
    "              #loss = \"categorical_crossentropy\",\n",
    "              metrics=['accuracy'])\n",
    "\n",
    "\n",
    "\n",
    "K.set_value(model.optimizer.learning_rate, .00001)\n",
    "#Line of code below from https://stackoverflow.com/questions/48285129/saving-best-model-in-keras#mcp_save = ModelCheckpoint('.mdl_wts.hdf5', save_best_only=True, monitor='val_loss', mode='min')\n",
    "earlyStopping = EarlyStopping(monitor='accuracy', patience=2, verbose=0, mode='max')\n",
    "mcp_save = ModelCheckpoint('.mdl_wts.hdf5', save_best_only=True, monitor='accuracy', mode='max')\n",
    "history = model.fit(X_train, y_train, epochs=10, callbacks=mcp_save)\n",
    "\n"
   ]
  },
  {
   "cell_type": "code",
   "execution_count": null,
   "metadata": {},
   "outputs": [
    {
     "name": "stdout",
     "output_type": "stream",
     "text": [
      "65/65 [==============================] - 1s 13ms/step - loss: 0.2320 - accuracy: 0.9836\n"
     ]
    },
    {
     "data": {
      "text/plain": [
       "[0.23196078836917877, 0.9835590124130249]"
      ]
     },
     "execution_count": 76,
     "metadata": {},
     "output_type": "execute_result"
    }
   ],
   "source": [
    "model.evaluate(X_test,y_test)"
   ]
  },
  {
   "cell_type": "code",
   "execution_count": null,
   "metadata": {},
   "outputs": [
    {
     "name": "stdout",
     "output_type": "stream",
     "text": [
      "[-51.386173  37.552483]\n"
     ]
    },
    {
     "data": {
      "text/plain": [
       "29"
      ]
     },
     "execution_count": 98,
     "metadata": {},
     "output_type": "execute_result"
    }
   ],
   "source": [
    "images=[]\n",
    "waldo = 0 \n",
    "iter = 0 \n",
    "for i in os.listdir(os.getcwd()+\"/Pictures/64/Test/\"):\n",
    "   try:\n",
    "      #print(os.getcwd()+\"/Pictures/64/Test/\"+i)\n",
    "      if image.imread(os.getcwd()+\"/Pictures/64/Test/\"+i).shape == (64, 64, 3):\n",
    "         if i == 'good.jpg':\n",
    "            waldo = iter\n",
    "         images.append(image.imread(os.getcwd()+\"/Pictures/64/Test/\"+i))\n",
    "         iter+=1\n",
    "   except:\n",
    "      continue\n",
    "\n",
    "predictor = model.predict((np.asarray(images)))\n",
    "decisions = []\n",
    "index = 0\n",
    "for i in predictor:\n",
    "   decisions.append(i[1])\n",
    "   if index == waldo:\n",
    "      print (i)\n",
    "   index+=1\n",
    "decisions = np.asarray(decisions)\n",
    "waldo"
   ]
  },
  {
   "cell_type": "code",
   "execution_count": null,
   "metadata": {},
   "outputs": [
    {
     "data": {
      "text/plain": [
       "array([428, 528, 550, 603, 731, 188, 501, 568, 622, 651, 601, 196, 449,\n",
       "       572, 266, 332, 286,  49,  44, 644, 171, 229, 282, 617, 682, 678,\n",
       "       680, 589, 659,  86,   1, 640, 230, 696, 279, 386, 270, 660, 185,\n",
       "       497, 319, 238, 354, 598,  58, 385,  92, 628, 107, 274, 289, 586,\n",
       "        72, 711, 396, 361, 511, 473, 306, 623, 216, 744, 186, 596,  76,\n",
       "       588,   8, 642, 228, 253,  97, 104, 194, 751, 531, 100, 431, 495,\n",
       "        41, 519, 265, 243, 453,  13, 555, 575, 670,  99, 376, 345, 338,\n",
       "       148, 362, 264,  16, 631, 262, 466, 195, 705, 512,   4, 419, 337,\n",
       "       411, 177, 235, 571,  57, 464, 358, 213, 113, 267, 127,  73,  15,\n",
       "       544, 114, 570, 595, 199, 271, 382, 116, 278, 117, 677, 360, 254,\n",
       "       692, 557, 541, 741, 309,  84, 315, 157, 561, 737, 288, 302, 445,\n",
       "       321, 609, 366,  93, 393, 585, 540,  30, 560, 341, 463, 129, 326,\n",
       "       719,  83, 458, 636, 153, 739, 294, 304, 132, 406,  74, 249,  39,\n",
       "       381, 654, 137, 251, 618, 717, 437, 160, 103, 350, 401, 750,  24,\n",
       "       329, 357,  12, 683,   7,  26, 398, 710, 740,  34, 221,   5, 713,\n",
       "       340, 202, 273, 590, 435, 292, 173,  66, 476, 500, 139, 656, 488,\n",
       "        25, 314,  63, 259, 287, 577, 268,  43, 611, 548, 205, 491, 505,\n",
       "       674, 507, 485, 227, 606, 245, 425, 387, 583, 556, 149, 447, 442,\n",
       "       219, 574, 594,  28,  68, 707, 261,  40, 392, 516, 547, 552, 415,\n",
       "       180, 662, 237, 685, 619, 443,   3, 299, 578,  47, 565, 693, 738,\n",
       "       551, 563, 317, 181, 749, 178, 204,  42, 276, 192, 232, 616, 119,\n",
       "       667, 418, 635, 138, 703, 472, 456, 365,  51, 368,  96,  75, 295,\n",
       "       191, 454,  32, 156, 150,  18, 755, 272, 718, 634,  11, 421, 248,\n",
       "       756, 351, 684, 275,  69, 486,   9, 206, 347, 422, 336, 172,  87,\n",
       "       101, 489, 145, 736, 141, 669, 296, 715, 672, 316, 236,  55, 301,\n",
       "       408,  80,  14, 599, 124, 378, 140, 579, 155, 284, 503, 193,  31,\n",
       "       225, 479, 630, 573, 521, 639,  94, 210, 342, 625, 647, 525, 629,\n",
       "       409, 461, 183, 471, 496, 308, 626,  82, 133, 356, 394, 330,  61,\n",
       "       612, 424, 697, 220, 158, 513, 487, 688, 687, 451, 576, 112,  70,\n",
       "       665, 580, 247, 514,  60,  33,  21, 413, 746, 681, 539, 290, 675,\n",
       "       695, 136, 182, 460,  20, 200,  54,  85, 389, 564, 258, 433, 434,\n",
       "       293, 373, 349, 566, 120, 384, 170, 215, 143, 689, 335, 311, 535,\n",
       "       184,  98, 483, 179, 142, 542, 646, 372, 166, 224, 416, 604, 733,\n",
       "       430, 605, 648, 291, 582, 641, 108, 375, 484, 144, 123, 128, 231,\n",
       "       115,  59, 164, 159, 714,  88, 649, 364, 462, 679, 508, 125, 638,\n",
       "       661, 346, 154, 379, 131, 412, 533, 208, 130, 152,  45, 729, 300,\n",
       "       593,  64, 645, 423, 637, 176,  62,  81, 440, 250, 283, 234, 367,\n",
       "       615, 452,  53, 257, 754, 567, 553, 339, 169, 348, 244, 102, 691,\n",
       "       732, 499,  23, 327, 222, 383,  90, 380, 161, 554, 417, 722,  36,\n",
       "       359, 260,   0, 297, 399,  50, 723,  48, 653,  22, 465, 698, 252,\n",
       "       190, 239, 559, 370, 233, 724,  71, 526, 627, 163,  91, 214, 527,\n",
       "       498, 241, 303, 402, 395, 377, 420, 110, 207, 369, 355, 211,  46,\n",
       "       708, 753, 388, 313, 209, 584, 704, 569, 426, 436, 459, 217, 135,\n",
       "       699, 134,  89, 529, 650, 701, 481, 727, 167, 162, 111, 725, 441,\n",
       "       523, 515, 597, 509, 307, 633, 118, 122, 735, 538, 706, 620, 747,\n",
       "       475, 448, 391, 324, 510, 730, 545, 480, 331, 323, 403, 197, 407,\n",
       "       581, 439, 121, 410, 537, 467, 504, 676, 748, 255, 613, 632, 310,\n",
       "        10, 478, 305, 469, 429, 328, 664, 187, 534, 663, 602, 312, 175,\n",
       "       592, 624, 256, 492, 543, 151, 405, 712,  19, 371, 218, 198, 720,\n",
       "       709, 477, 734, 203, 285, 614, 657,  78, 333, 146, 427, 546, 105,\n",
       "       320, 109, 174, 397, 494, 457,  95, 432, 455, 600, 322, 482, 506,\n",
       "       106, 165, 470, 352, 520, 493, 277, 446, 726, 325, 390, 353, 517,\n",
       "       643,  37, 334, 690, 269, 666, 655, 686,  52, 608, 126, 344, 530,\n",
       "       721, 490, 743, 374, 280, 671, 742, 444, 242, 524, 518,  56, 558,\n",
       "         2,  35, 318, 700, 468,  38, 673,  17, 694, 414, 652, 716, 263,\n",
       "       168, 610, 607, 189, 223, 658, 281, 474, 522, 668, 404,   6,  79,\n",
       "       536, 226, 587, 621, 201, 438,  77, 752, 502, 532, 745, 728, 147,\n",
       "        29, 363, 450, 702,  67, 246,  27, 240,  65, 298, 591, 400, 549,\n",
       "       212, 343, 562])"
      ]
     },
     "execution_count": 69,
     "metadata": {},
     "output_type": "execute_result"
    }
   ],
   "source": [
    "np.argsort(decisions)"
   ]
  },
  {
   "cell_type": "code",
   "execution_count": null,
   "metadata": {},
   "outputs": [],
   "source": []
  },
  {
   "cell_type": "code",
   "execution_count": null,
   "metadata": {},
   "outputs": [
    {
     "data": {
      "text/plain": [
       "array([[1., 0.],\n",
       "       [0., 1.],\n",
       "       [0., 1.],\n",
       "       ...,\n",
       "       [0., 1.],\n",
       "       [1., 0.],\n",
       "       [1., 0.]])"
      ]
     },
     "execution_count": 78,
     "metadata": {},
     "output_type": "execute_result"
    }
   ],
   "source": [
    "y_test"
   ]
  },
  {
   "cell_type": "code",
   "execution_count": null,
   "metadata": {},
   "outputs": [
    {
     "data": {
      "text/plain": [
       "array([[1056,   17],\n",
       "       [  17,  978]])"
      ]
     },
     "execution_count": 81,
     "metadata": {},
     "output_type": "execute_result"
    }
   ],
   "source": [
    "actual = []\n",
    "for i in y_test:\n",
    "    actual.append(np.argmax(i))\n",
    "\n",
    "decisions = []\n",
    "for i in model.predict(X_test):\n",
    "    decisions.append(np.argmax(i))\n",
    "\n",
    "confusion_matrix(actual, decisions)"
   ]
  },
  {
   "cell_type": "code",
   "execution_count": null,
   "metadata": {},
   "outputs": [
    {
     "data": {
      "text/plain": [
       "1"
      ]
     },
     "execution_count": 97,
     "metadata": {},
     "output_type": "execute_result"
    }
   ],
   "source": [
    "decisions[1]"
   ]
  },
  {
   "cell_type": "code",
   "execution_count": null,
   "metadata": {},
   "outputs": [
    {
     "data": {
      "text/plain": [
       "array([[ 279.58755, -321.66098]], dtype=float32)"
      ]
     },
     "execution_count": 16,
     "metadata": {},
     "output_type": "execute_result"
    }
   ],
   "source": [
    "model.predict(images[4].reshape(1,64,64,3))"
   ]
  },
  {
   "cell_type": "code",
   "execution_count": null,
   "metadata": {},
   "outputs": [
    {
     "data": {
      "text/plain": [
       "<matplotlib.image.AxesImage at 0x7fbc2e7984c0>"
      ]
     },
     "execution_count": 75,
     "metadata": {},
     "output_type": "execute_result"
    },
    {
     "data": {
      "image/png": "[encoded data removed]",
      "text/plain": [
       "<Figure size 432x288 with 1 Axes>"
      ]
     },
     "metadata": {
      "needs_background": "light"
     },
     "output_type": "display_data"
    }
   ],
   "source": [
    "plt.imshow(images[29])"
   ]
  },
  {
   "cell_type": "code",
   "execution_count": null,
   "metadata": {},
   "outputs": [],
   "source": [
    "from PIL import Image\n",
    "img = Image.open(\"/Users/michael/Desktop/CompSci/Courses/ANN 539/Final/Pictures/64/Test/good.jpg\") # image extension *.png,*.jpg\n",
    "img = img.convert('RGB')\n",
    "new_width  = 64\n",
    "new_height = 64\n",
    "img = img.resize((new_width, new_height), Image.ANTIALIAS)\n",
    "img.save(os.getcwd()+\"/Pictures/64/Test/good.jpg\")\n"
   ]
  },
  {
   "cell_type": "code",
   "execution_count": null,
   "metadata": {},
   "outputs": [
    {
     "data": {
      "text/plain": [
       "<matplotlib.image.AxesImage at 0x7fbc2f75a6a0>"
      ]
     },
     "execution_count": 9,
     "metadata": {},
     "output_type": "execute_result"
    },
    {
     "data": {
      "image/png": "[encoded data removed]",
      "text/plain": [
       "<Figure size 432x288 with 1 Axes>"
      ]
     },
     "metadata": {
      "needs_background": "light"
     },
     "output_type": "display_data"
    }
   ],
   "source": [
    "#Waldo\n",
    "plt.imshow(images[waldo])"
   ]
  },
  {
   "cell_type": "code",
   "execution_count": null,
   "metadata": {},
   "outputs": [],
   "source": [
    "#Top choice\n",
    "plt.imshow(images[286])"
   ]
  },
  {
   "cell_type": "code",
   "execution_count": null,
   "metadata": {},
   "outputs": [],
   "source": [
    "\"\"\"\"#The ccode below is for generating the necessary images. They've already bbeen generated whch is why it's commented out. \n",
    "\n",
    "#This is from https://github.com/ThomasADuffy/Whos-Waldo-Capstone-2/blob/master/images/plots_structures/Model_v1.jpg\n",
    "#datagen edited as needed\n",
    "#Images from https://github.com/mrrehani/deepRed\n",
    "from tensorflow.keras.preprocessing.image import ImageDataGenerator\n",
    "datagen = ImageDataGenerator(\n",
    "    rotation_range=0,\n",
    "    horizontal_flip=True,\n",
    "    vertical_flip=False,\n",
    "    brightness_range=(.1,1.3),\n",
    "    fill_mode='nearest')\n",
    "i = 0\n",
    "gen= datagen.flow_from_directory(\n",
    "        os.getcwd() + \"/Pictures/64/\",\n",
    "        target_size=(64, 64),\n",
    "        batch_size=1, color_mode='rgb',\n",
    "    class_mode='binary', shuffle=True, interpolation='nearest',\n",
    "    save_to_dir= os.getcwd() + \"/Pictures/64/augmented\",save_prefix=\"changed\")\n",
    "i = 0\n",
    "\n",
    "while i <= 5000:\n",
    "    try:\n",
    "        gen.next()\n",
    "        i+=1\n",
    "    except:\n",
    "        break\"\"\"\"\n"
   ]
  },
  {
   "cell_type": "code",
   "execution_count": null,
   "metadata": {},
   "outputs": [],
   "source": []
  },
  {
   "cell_type": "code",
   "execution_count": null,
   "metadata": {},
   "outputs": [],
   "source": []
  }
 ],
 "metadata": {
  "interpreter": {
   "hash": "2c17cdae881039898e019dde816ef025ab5528b4115dbe62b08e3ff91b305481"
  },
  "kernelspec": {
   "display_name": "Python 3.8.5 ('base')",
   "language": "python",
   "name": "python3"
  },
  "language_info": {
   "codemirror_mode": {
    "name": "ipython",
    "version": 3
   },
   "file_extension": ".py",
   "mimetype": "text/x-python",
   "name": "python",
   "nbconvert_exporter": "python",
   "pygments_lexer": "ipython3",
   "version": "3.8.5"
  },
  "orig_nbformat": 4
 },
 "nbformat": 4,
 "nbformat_minor": 2
}
